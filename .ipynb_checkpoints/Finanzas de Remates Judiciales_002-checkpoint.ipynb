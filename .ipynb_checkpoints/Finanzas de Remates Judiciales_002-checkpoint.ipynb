{
 "cells": [
  {
   "cell_type": "markdown",
   "metadata": {},
   "source": [
    "## Cálculo de finanzas básicas del proceso de remate judicial.\n",
    "**V002**\n"
   ]
  },
  {
   "cell_type": "markdown",
   "metadata": {},
   "source": [
    "\n",
    "## Se consideran las variables que a la luz actual se ha aprendido que participan en el cálculo financiero:  \n",
    "  \n",
    "  $$p_r$$  Es el precio del remate judicial  \n",
    "  $$v_c$$  Es el valor Catastral \n",
    "  $$i_i$$  Es el impuesto sobre adquisición de inmuebles ISAI (de 3% a 4%)  \n",
    "  $$i_s$$  Es el impuesto sobre la renta ISR (20%), sobre la diferencia los precios de venta y de remate\n",
    "  $$g_n$$  Es el **% pf** de gastos notariales (usualmete un 3% sobre el precio de venta final)  \n",
    "  $$i_r$$  Es el Índice de reparaciones y mejoras al inmueble en % del **pr**, usualmente entre 10%-30% \n",
    "  $$i_v$$  Porcentaje sobre el precio por servicio de publicidad, corretaje y venta del inmueble\n",
    "  $$p_f$$  Es el precio de venta final del inmueble"
   ]
  },
  {
   "cell_type": "markdown",
   "metadata": {},
   "source": [
    "### La ecuaciones de los costos son:  \n",
    "  $$c_r = i_r p_rema$$  Es el costo de reparaciones y mejoras al inmueble\n",
    "  $$c_i = i_i (v_cata - p_rema)$$  Es el costo por ISAI  \n",
    "  $$c_s = i_s (p_f - p_r)$$ Costo por impuesto sobre la renta  \n",
    "  $$c_nc = i_c p_f$$ Costo por gastos notariales  \n",
    "  $$c_n = i_c p_f$$ Costo por gastos notariales\n",
    "  $$c_v = i_v p_f$$ Costo por publicidad, corretaje y ventas\n",
    "  $$c_t= p_r + c_s + c_i + c_s + c_n$$  Es la suma de todos los costos  \n",
    "  $$c_t= p_r (i_r - i_i - i_s) + p_f (i_s+g_n+i_c+ i_v) + i_i v_c$$  Ecuación de costos extendida    \n",
    "  $$u = \\frac{p_f - c_t}{p_f}$$  Ecuación de utilidad después de gastos e impuestos EBDITA  \n"
   ]
  },
  {
   "cell_type": "code",
   "execution_count": 1,
   "id": "e2555885",
   "metadata": {},
   "outputs": [],
   "source": [
    "import numpy as np"
   ]
  },
  {
   "cell_type": "code",
   "execution_count": 2,
   "id": "4894ce89",
   "metadata": {},
   "outputs": [],
   "source": [
    "pdV = 2.2e6  #Precio de venta\n",
    "pdR = 9e5    #Precio de remate\n",
    "pC = 1e6     #Precio Catastral\n",
    "ISAI = 0.03  # Impuesto sobre la Adquisición de Inmueble.\n",
    "ISR = 0.20   # Impuesto sobre ganacia en compra de casa"
   ]
  },
  {
   "cell_type": "code",
   "execution_count": 3,
   "id": "f9a34ffe",
   "metadata": {},
   "outputs": [],
   "source": [
    "def precioDeVenta(x):\n",
    "    return x\n",
    "\n",
    "def precioDelRemate(x):\n",
    "    return x\n",
    "\n",
    "def precioCatastral(x):\n",
    "    return x\n",
    "\n",
    "def isai(x):\n",
    "    return x\n",
    "\n",
    "def isr(x):\n",
    "    return x\n",
    "\n",
    "def Utilidad(pdV, pdR, pC, ISAI, ISR):\n",
    "    a = (precioDeVenta(pdV) - precioCatastral(pC))  * isr(ISR)\n",
    "    b = (precioDeVenta(pdV) - precioDelRemate(pdR)) * isai(ISAI)\n",
    "    c = precioDelRemate(pdR)\n",
    "    d = precioDeVenta(pdV)\n",
    "    g = precioDeVenta(pdV) - a - b - c\n",
    "    print(d, a,b,c,g)\n",
    "    return g/precioDelRemate(pdR)"
   ]
  },
  {
   "cell_type": "code",
   "execution_count": 4,
   "id": "a6f7865d",
   "metadata": {},
   "outputs": [
    {
     "name": "stdout",
     "output_type": "stream",
     "text": [
      "2200000.0 240000.0 39000.0 900000.0 1021000.0\n",
      "1.1344444444444444\n"
     ]
    }
   ],
   "source": [
    "print(Utilidad(pdV, pdR, pC, ISAI, ISR))"
   ]
  },
  {
   "cell_type": "code",
   "execution_count": null,
   "id": "f23fefc4",
   "metadata": {},
   "outputs": [],
   "source": []
  }
 ],
 "metadata": {
  "kernelspec": {
   "display_name": "Python 3 (ipykernel)",
   "language": "python",
   "name": "python3"
  },
  "language_info": {
   "codemirror_mode": {
    "name": "ipython",
    "version": 3
   },
   "file_extension": ".py",
   "mimetype": "text/x-python",
   "name": "python",
   "nbconvert_exporter": "python",
   "pygments_lexer": "ipython3",
   "version": "3.7.2"
  }
 },
 "nbformat": 4,
 "nbformat_minor": 5
}
