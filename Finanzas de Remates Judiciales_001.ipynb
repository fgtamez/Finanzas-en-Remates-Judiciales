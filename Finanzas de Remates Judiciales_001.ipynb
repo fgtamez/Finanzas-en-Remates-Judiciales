{
 "cells": [
  {
   "cell_type": "markdown",
   "metadata": {},
   "source": [
    "## Cálculo de finanzas básicas del proceso de remate judicial."
   ]
  },
  {
   "cell_type": "code",
   "execution_count": null,
   "id": "e2555885",
   "metadata": {},
   "outputs": [],
   "source": [
    "import numpy as np"
   ]
  },
  {
   "cell_type": "code",
   "execution_count": 3,
   "id": "4894ce89",
   "metadata": {},
   "outputs": [],
   "source": [
    "pdV = 2.2e6  #Precio de venta\n",
    "pdR = 9e5    #Precio de remate\n",
    "pC = 1e6     #Precio Catastral\n",
    "ISAI = 0.03  # Impuesto sobre la Adquisición de Inmueble.\n",
    "ISR = 0.20   # Impuesto sobre ganacia en compra de casa"
   ]
  },
  {
   "cell_type": "code",
   "execution_count": 8,
   "id": "f9a34ffe",
   "metadata": {},
   "outputs": [],
   "source": [
    "def precioDeVenta(x):\n",
    "    return x\n",
    "\n",
    "def precioDelRemate(x):\n",
    "    return x\n",
    "\n",
    "def precioCatastral(x):\n",
    "    return x\n",
    "\n",
    "def isai(x):\n",
    "    return x\n",
    "\n",
    "def isr(x):\n",
    "    return x\n",
    "\n",
    "def Utilidad(pdV, pdR, pC, ISAI, ISR):\n",
    "    a = (precioDeVenta(pdV) - precioCatastral(pC))  * isr(ISR)\n",
    "    b = (precioDeVenta(pdV) - precioDelRemate(pdR)) * isai(ISAI)\n",
    "    c = precioDelRemate(pdR)\n",
    "    d = precioDeVenta(pdV)\n",
    "    g = precioDeVenta(pdV) - a - b - c\n",
    "    print(d, a,b,c,g)\n",
    "    return g/precioDelRemate(pdR)"
   ]
  },
  {
   "cell_type": "code",
   "execution_count": 9,
   "id": "a6f7865d",
   "metadata": {},
   "outputs": [
    {
     "name": "stdout",
     "output_type": "stream",
     "text": [
      "2200000.0 240000.0 39000.0 900000.0 1021000.0\n",
      "-0.13444444444444437\n"
     ]
    }
   ],
   "source": [
    "print(Utilidad(pdV, pdR, pC, ISAI, ISR))"
   ]
  },
  {
   "cell_type": "code",
   "execution_count": null,
   "id": "f23fefc4",
   "metadata": {},
   "outputs": [],
   "source": []
  }
 ],
 "metadata": {
  "kernelspec": {
   "display_name": "Python 3 (ipykernel)",
   "language": "python",
   "name": "python3"
  },
  "language_info": {
   "codemirror_mode": {
    "name": "ipython",
    "version": 3
   },
   "file_extension": ".py",
   "mimetype": "text/x-python",
   "name": "python",
   "nbconvert_exporter": "python",
   "pygments_lexer": "ipython3",
   "version": "3.7.2"
  }
 },
 "nbformat": 4,
 "nbformat_minor": 5
}
